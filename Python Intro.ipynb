{
 "cells": [
  {
   "cell_type": "code",
   "execution_count": 2,
   "metadata": {},
   "outputs": [
    {
     "name": "stdout",
     "output_type": "stream",
     "text": [
      "Anooj Shah\n"
     ]
    }
   ],
   "source": [
    "#print my name\n",
    "print(\"Anooj Shah\")"
   ]
  },
  {
   "cell_type": "code",
   "execution_count": 4,
   "metadata": {},
   "outputs": [
    {
     "name": "stdout",
     "output_type": "stream",
     "text": [
      "24\n",
      "35\n"
     ]
    }
   ],
   "source": [
    "#Variable Assignments\n",
    "number_1 = 24\n",
    "number_2 = 35\n",
    "print(number_1)\n",
    "print(number_2)"
   ]
  },
  {
   "cell_type": "code",
   "execution_count": 6,
   "metadata": {},
   "outputs": [
    {
     "name": "stdout",
     "output_type": "stream",
     "text": [
      "24 * 35 = 840\n"
     ]
    }
   ],
   "source": [
    "#multiply number 1 and 2\n",
    "product = number_1 * number_2\n",
    "print(f\"{number_1} * {number_2} = {product}\")"
   ]
  },
  {
   "cell_type": "code",
   "execution_count": 9,
   "metadata": {},
   "outputs": [
    {
     "name": "stdout",
     "output_type": "stream",
     "text": [
      "124\n",
      "77\n",
      "35\n",
      "124\n",
      "77\n",
      "35\n",
      "90\n",
      "84\n"
     ]
    }
   ],
   "source": [
    "#Create a list of numbers\n",
    "housing_prices =[124, 77, 35, 90, 84]\n",
    "print(housing_prices[0])\n",
    "\n",
    "print(housing_prices[1])\n",
    "print(housing_prices[2])\n",
    "for index in range(len(housing_prices)):\n",
    "    print(housing_prices[index])"
   ]
  },
  {
   "cell_type": "code",
   "execution_count": null,
   "metadata": {},
   "outputs": [],
   "source": []
  }
 ],
 "metadata": {
  "kernelspec": {
   "display_name": "Python 3",
   "language": "python",
   "name": "python3"
  },
  "language_info": {
   "codemirror_mode": {
    "name": "ipython",
    "version": 3
   },
   "file_extension": ".py",
   "mimetype": "text/x-python",
   "name": "python",
   "nbconvert_exporter": "python",
   "pygments_lexer": "ipython3",
   "version": "3.10.5"
  }
 },
 "nbformat": 4,
 "nbformat_minor": 2
}
